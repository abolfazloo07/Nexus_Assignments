{
  "nbformat": 4,
  "nbformat_minor": 0,
  "metadata": {
    "colab": {
      "provenance": []
    },
    "kernelspec": {
      "name": "python3",
      "display_name": "Python 3"
    },
    "language_info": {
      "name": "python"
    }
  },
  "cells": [
    {
      "cell_type": "markdown",
      "source": [
        "# 📓 Assignment 5 — Probability\n",
        "\n",
        "## 🎲 Counting & Probability with Cards in Python 🃏\n",
        "Learn factorials, combinations, and (conditional) probability — all in one simple card game simulation using only math and random modules."
      ],
      "metadata": {
        "id": "tacMQNsG2g5S"
      }
    },
    {
      "cell_type": "markdown",
      "source": [
        "## 🧮 PART 1: Factorial & Combinations\n",
        "\n"
      ],
      "metadata": {
        "id": "_cA_dWDJ2vfr"
      }
    },
    {
      "cell_type": "code",
      "execution_count": 1,
      "metadata": {
        "id": "aIxoWeNt2ao0",
        "outputId": "985d80f1-936c-432d-e911-8e40d7626b4f",
        "colab": {
          "base_uri": "https://localhost:8080/"
        }
      },
      "outputs": [
        {
          "output_type": "stream",
          "name": "stdout",
          "text": [
            "6! = 720\n",
            "Combinations (6 choose 3): 20\n"
          ]
        }
      ],
      "source": [
        "# ---- FACTORIAL & COMBINATIONS ----\n",
        "\n",
        "import math\n",
        "print(\"6! =\", math.factorial(6))\n",
        "print(\"Combinations (6 choose 3):\", math.comb(6,3))\n"
      ]
    },
    {
      "cell_type": "markdown",
      "source": [
        "## 🃏 PART 2: Simulating a Deck of Cards\n",
        "\n"
      ],
      "metadata": {
        "id": "pzy2xD3H3D3o"
      }
    },
    {
      "cell_type": "code",
      "source": [
        "# ---- PROBABILITY IN A DECK ----\n",
        "\n",
        "import random\n",
        "\n",
        "deck = [f\"{rank} of {suit}\" for suit in ['Hearts', 'Spades', 'Diamonds', 'Clubs']\n",
        "        for rank in range(1, 14)]\n",
        "\n",
        "# Draw 2 random cards\n",
        "\n",
        "draws = random.sample(deck, 2) # بدون تکرار دوتا از کارت ها رو برداریم\n",
        "print(\"\\nDrawn cards:\", draws)\n"
      ],
      "metadata": {
        "id": "eUvZhzYB2x4L",
        "outputId": "de912136-3aa7-46a1-9c85-d30a956ed925",
        "colab": {
          "base_uri": "https://localhost:8080/"
        }
      },
      "execution_count": 5,
      "outputs": [
        {
          "output_type": "stream",
          "name": "stdout",
          "text": [
            "\n",
            "Drawn cards: ['4 of Hearts', '5 of Hearts']\n"
          ]
        }
      ]
    },
    {
      "cell_type": "markdown",
      "source": [
        "## 📊 PART 3: Basic Probability"
      ],
      "metadata": {
        "id": "OidRYf9q3Mwj"
      }
    },
    {
      "cell_type": "code",
      "source": [
        "# PROBABILITY: What’s the chance that both cards are Hearts?\n",
        "import math\n",
        "hearts = [card for card in deck if \"Hearts\" in card]\n",
        "prob_both_hearts = math.comb(len(hearts), 2) / math.comb(len(deck), 2)\n",
        "print(f\"Probability both cards are Hearts: {prob_both_hearts:.4f}\")\n"
      ],
      "metadata": {
        "id": "Ok5d99Ns3Oa7",
        "outputId": "d498241f-ccc9-4d13-cc7b-d4bd3e5f2879",
        "colab": {
          "base_uri": "https://localhost:8080/"
        }
      },
      "execution_count": 11,
      "outputs": [
        {
          "output_type": "stream",
          "name": "stdout",
          "text": [
            "Probability both cards are Hearts: 0.0588\n"
          ]
        }
      ]
    },
    {
      "cell_type": "markdown",
      "source": [
        "## 🔁 PART 4: Conditional Probability"
      ],
      "metadata": {
        "id": "NMIA7c313Yum"
      }
    },
    {
      "cell_type": "code",
      "source": [
        "# ---- CONDITIONAL PROBABILITY ----\n",
        "# P(A and B) / P(B): Probability second card is Heart given first was Heart\n",
        "# A = both are hearts, B = first is heart\n",
        "import math\n",
        "total_cards = 52\n",
        "total_hearts = 13\n",
        "p_a_and_b = math.comb(total_hearts -1, 1) / math.comb(total_cards -1, 1) # after one heart is drawn\n",
        "p_b = total_hearts / total_cards\n",
        "p_a_given_b = p_a_and_b / p_b\n",
        "print(f\"Conditional probability 2nd card is Heart given 1st is Heart: {p_a_given_b:.4f}\")\n"
      ],
      "metadata": {
        "id": "IZeCH8pw3aZX",
        "colab": {
          "base_uri": "https://localhost:8080/"
        },
        "outputId": "33047b52-f027-4e3b-f211-8b7acd398d24"
      },
      "execution_count": 20,
      "outputs": [
        {
          "output_type": "stream",
          "name": "stdout",
          "text": [
            "Conditional probability 2nd card is Heart given 1st is Heart: 0.9412\n"
          ]
        }
      ]
    },
    {
      "cell_type": "code",
      "source": [],
      "metadata": {
        "id": "VbkVIJDfWwZT"
      },
      "execution_count": null,
      "outputs": []
    }
  ]
}